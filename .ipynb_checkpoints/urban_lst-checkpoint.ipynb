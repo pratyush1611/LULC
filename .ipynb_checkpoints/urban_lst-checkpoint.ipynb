{
 "cells": [
  {
   "cell_type": "markdown",
   "metadata": {},
   "source": [
    "# Aim: \n",
    "### To create a program to simulaneously read both LULC and LSt images and calculate average temperatures of only those pixels marked as urban\n"
   ]
  },
  {
   "cell_type": "markdown",
   "metadata": {},
   "source": [
    "### Import"
   ]
  },
  {
   "cell_type": "code",
   "execution_count": 20,
   "metadata": {},
   "outputs": [],
   "source": [
    "import os\n",
    "import re\n",
    "import numpy as np\n",
    "import pandas as pd\n",
    "from matplotlib import pyplot as plt\n",
    "from osgeo import gdal"
   ]
  },
  {
   "cell_type": "markdown",
   "metadata": {},
   "source": [
    "### Functions"
   ]
  },
  {
   "cell_type": "code",
   "execution_count": 2,
   "metadata": {},
   "outputs": [],
   "source": [
    "def readit(path):\n",
    "    data_years = pd.DataFrame(data=[], index=[\"nodata\",\"urban\",\"green\",\"water\",\"barren\"], columns=[])\n",
    "    for file in os.listdir(path):\n",
    "        if (file.endswith(\".tif\")):\n",
    "            print(file)\n",
    "            ds = gdal.Open(path+ \"/\" +file)\n",
    "            band =  ds.GetRasterBand(1)\n",
    "            #print(gdal.GetDataTypeName(band.DataType)  )\n",
    "            rasterArray = band.ReadAsArray()\n",
    "            unique_array ,count_array = (np.unique(rasterArray,return_index=False, return_inverse=False, return_counts=True, axis=None))\n",
    "            saal = int((re.search( r\"\\d{4}\" ,file)).group())\n",
    "            print(saal)\n",
    "            data_years[saal] = count_array\n",
    "            #to check the stats of raster images\n",
    "            array_unq_cnt = zip(unique_array,count_array)\n",
    "            for i in array_unq_cnt:\n",
    "                print(i[0], i[1])\n",
    "            # Compute statistics if needed\n",
    "            if band.GetMinimum() is None or band.GetMaximum()is None:\n",
    "                band.ComputeStatistics(0)\n",
    "                print(\"Statistics computed.\")\n",
    "\n",
    "            # Print only selected metadata:\n",
    "            print (\"[ NO DATA VALUE ] = \", band.GetNoDataValue()) # none\n",
    "            print (\"[ MIN ] = \", band.GetMinimum())\n",
    "            print (\"[ MAX ] = \", band.GetMaximum())\n",
    "            \n",
    "    landcover = data_years.drop(\"nodata\", axis=0).transpose()\n",
    "    landcover = landcover * 0.0009\t\t\n",
    "    #landcover.to_csv(path + '/data_extracted.csv')\n",
    "    print(\"im done here\")\n",
    "    return(landcover)"
   ]
  },
  {
   "cell_type": "code",
   "execution_count": 3,
   "metadata": {},
   "outputs": [],
   "source": [
    "path_lst = r\"E:\\earthEngine\\million_plus\\Vadodara\\Baroda\\LST_baroda\"\n",
    "path_lulc = r\"E:\\earthEngine\\million_plus\\Vadodara\\Baroda\\LULC_baroda\""
   ]
  },
  {
   "cell_type": "code",
   "execution_count": 16,
   "metadata": {},
   "outputs": [
    {
     "name": "stdout",
     "output_type": "stream",
     "text": [
      "1988   :  34.766600683907626\n",
      "1990   :  33.32327010347416\n",
      "1992   :  32.21009255589165\n",
      "1994   :  29.689023185435484\n",
      "1996   :  32.80719615844789\n",
      "1998   :  30.929135258881136\n",
      "2000   :  34.89303399880075\n",
      "2003   :  28.710284225326696\n",
      "2008   :  36.39000694831403\n",
      "2010   :  36.82123437794753\n",
      "2013   :  37.47974115176383\n",
      "2015   :  35.42243326822051\n",
      "2017   :  33.263902530073736\n",
      "2019   :  36.69969765509119\n"
     ]
    }
   ],
   "source": [
    "lst_list=[]  #init list of lst \n",
    "lulc_list=[] #init list of lulc\n",
    "df = pd.DataFrame(data=[], index=[\"LST\"], columns=[])\n",
    "#make list of lst images\n",
    "for i in os.listdir(path_lst):\n",
    "    if i.endswith(\".tif\"):\n",
    "        lst_list.append(i)\n",
    "#make list of lulc images        \n",
    "for i in os.listdir(path_lulc):\n",
    "    if i.endswith(\".tif\"):\n",
    "        lulc_list.append(i)        \n",
    "for (lstFile, lulcFile) in zip(lst_list, lulc_list):\n",
    "    #open files individually with GDAL\n",
    "    lst_ds = gdal.Open(path_lst+ \"/\" + lstFile)\n",
    "    lulc_ds = gdal.Open(path_lulc+ \"/\" + lulcFile)\n",
    "    #get band 1 for each obtained file\n",
    "    lst_band =  lst_ds.GetRasterBand(1)\n",
    "    lulc_band = lulc_ds.GetRasterBand(1)\n",
    "    yr = int((re.search( r\"\\d{4}\" , lstFile )).group())\n",
    "    \n",
    "    #print(gdal.GetDataTypeName(band.DataType)  )\n",
    "    #read raster as 1D array\n",
    "    LstArray = lst_band.ReadAsArray().flatten()\n",
    "    LulcArray = lulc_band.ReadAsArray().flatten()\n",
    "    \n",
    "    s=0       # sums up the values of LST for urban pixel\n",
    "    counter=0 # counts the number of pixels with urban classification\n",
    "    for (j,k) in zip(LstArray, LulcArray):\n",
    "        if k==1:\n",
    "            s+=j\n",
    "            counter+=1\n",
    "    avg = s/counter       \n",
    "    #print(lstFile, \"  \" , lulcFile)\n",
    "    print(yr , \"  : \", avg)\n",
    "    df[yr] = avg\n",
    "    \n",
    "df_LST = df.T\n",
    "\n",
    "#print(\"Tadaa\")"
   ]
  },
  {
   "cell_type": "code",
   "execution_count": 21,
   "metadata": {},
   "outputs": [
    {
     "data": {
      "text/plain": [
       "<Figure size 432x288 with 0 Axes>"
      ]
     },
     "metadata": {},
     "output_type": "display_data"
    },
    {
     "data": {
      "image/png": "[encoded data removed]",
      "text/plain": [
       "<Figure size 432x288 with 1 Axes>"
      ]
     },
     "metadata": {
      "needs_background": "light"
     },
     "output_type": "display_data"
    }
   ],
   "source": [
    "plt.figure()\n",
    "df_LST.plot()\n",
    "plt.show()"
   ]
  },
  {
   "cell_type": "code",
   "execution_count": 5,
   "metadata": {},
   "outputs": [
    {
     "name": "stdout",
     "output_type": "stream",
     "text": [
      "['Baroda_1988_lulc_cnstnt.tif', 'Baroda_1990_lulc_cnstnt.tif', 'Baroda_1992_lulc_cnstnt.tif', 'Baroda_1994_lulc_cnstnt.tif', 'Baroda_1996_lulc_cnstnt.tif', 'Baroda_1998_lulc_cnstnt.tif', 'Baroda_2000_lulc_cnstnt.tif', 'Baroda_2003_lulc_cnstnt.tif', 'Baroda_2008_lulc_cnstnt.tif', 'Baroda_2010_lulc_cnstnt.tif', 'Baroda_2013_lulc_cnstnt.tif', 'Baroda_2015_lulc_cnstnt.tif', 'Baroda_2017_lulc_cnstnt.tif', 'Baroda_2019_lulc_cnstnt.tif']\n",
      "['Baroad_1988_lst.tif', 'Baroad_1990_lst.tif', 'Baroad_1992_lst.tif', 'Baroad_1994_lst.tif', 'Baroad_1996_lst.tif', 'Baroad_1998_lst.tif', 'Baroad_2000_lst.tif', 'Baroad_2003_lst.tif', 'Baroad_2008_lst.tif', 'Baroad_2010_lst.tif', 'Baroad_2013_lst.tif', 'Baroad_2015_lst.tif', 'Baroad_2017_lst.tif', 'Baroad_2019_lst.tif']\n"
     ]
    }
   ],
   "source": [
    "print(lulc_list)\n",
    "print(lst_list)"
   ]
  },
  {
   "cell_type": "code",
   "execution_count": null,
   "metadata": {},
   "outputs": [],
   "source": [
    "\"\"\"\n",
    "#saal = [int((re.search( r\"\\d{4}\" , flnm )).group()) for flnm in lst_list]\n",
    "#saal\n",
    "lst_ds = gdal.Open(path_lst+ \"/\" + \"Baroad_2019_lst.tif\")\n",
    "lulc_ds = gdal.Open(path_lulc+ \"/\" + \"Baroda_2019_lulc_cnstnt.tif\")\n",
    "\n",
    "lst_band =  lst_ds.GetRasterBand(1)\n",
    "lulc_band = lulc_ds.GetRasterBand(1)\n",
    "#print(gdal.GetDataTypeName(band.DataType)  )\n",
    "LstArray = lst_band.ReadAsArray().flatten()\n",
    "LulcArray = lulc_band.ReadAsArray().flatten()\n",
    "#for i in rasterArray.flatten():\n",
    "    #print(i)\n",
    "s=0   \n",
    "counter=0\n",
    "for (j,k) in zip(LstArray, LulcArray):\n",
    "    if k==1:\n",
    "        s+=j\n",
    "        counter+=1\n",
    "        #print(j)\n",
    "print(counter)\n",
    "print(s/counter)\n",
    "\"\"\"    "
   ]
  }
 ],
 "metadata": {
  "kernelspec": {
   "display_name": "Python 3",
   "language": "python",
   "name": "python3"
  },
  "language_info": {
   "codemirror_mode": {
    "name": "ipython",
    "version": 3
   },
   "file_extension": ".py",
   "mimetype": "text/x-python",
   "name": "python",
   "nbconvert_exporter": "python",
   "pygments_lexer": "ipython3",
   "version": "3.7.3"
  }
 },
 "nbformat": 4,
 "nbformat_minor": 2
}
