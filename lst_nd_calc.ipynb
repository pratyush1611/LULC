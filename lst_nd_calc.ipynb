{
 "cells": [
  {
   "cell_type": "markdown",
   "metadata": {},
   "source": [
    "# Aim: \n",
    "### To create a program to simulaneously read both LULC and LSt images and calculate average temperatures of only those pixels marked as urban\n"
   ]
  },
  {
   "cell_type": "markdown",
   "metadata": {},
   "source": [
    "### Import"
   ]
  },
  {
   "cell_type": "code",
   "execution_count": 2,
   "metadata": {},
   "outputs": [],
   "source": [
    "import os\n",
    "import re\n",
    "import numpy as np\n",
    "import pandas as pd\n",
    "#from matplotlib import pyplot as plt\n",
    "from osgeo import gdal"
   ]
  },
  {
   "cell_type": "markdown",
   "metadata": {},
   "source": [
    "### Functions"
   ]
  },
  {
   "cell_type": "code",
   "execution_count": 3,
   "metadata": {},
   "outputs": [],
   "source": [
    "path_lst  = r\"E:\\SPAD\\4.Fourth_Year\\08Eighth_Semester\\help_given\\self\\paper\\cities\\new\\Vodadara\\LST_baroda\"\n",
    "path_lulc = r\"E:\\SPAD\\4.Fourth_Year\\08Eighth_Semester\\help_given\\self\\paper\\cities\\new\\Vodadara\\LULC_baroda\"\n",
    "path_ndvi = r\"E:\\SPAD\\4.Fourth_Year\\08Eighth_Semester\\help_given\\self\\paper\\cities\\new\\Vodadara\\NDVI_Barod\"\n",
    "path_ndbi = r\"E:\\SPAD\\4.Fourth_Year\\08Eighth_Semester\\help_given\\self\\paper\\cities\\new\\Vodadara\\NDBI_Barod\""
   ]
  },
  {
   "cell_type": "code",
   "execution_count": 4,
   "metadata": {},
   "outputs": [],
   "source": [
    "lst_list=[]  #init list of lst \n",
    "lulc_list=[] #init list of lulc\n",
    "ndvi_list=[]\n",
    "ndbi_list=[]\n",
    "\n",
    "df = pd.DataFrame()\n",
    "dic = dict()\n",
    "#make list of lst images\n",
    "for i in os.listdir(path_lst):\n",
    "    if i.endswith(\".tif\"):\n",
    "        lst_list.append(i)\n",
    "#make list of lulc images        \n",
    "for i in os.listdir(path_lulc):\n",
    "    if i.endswith(\".tif\"):\n",
    "        lulc_list.append(i)        \n",
    "#make list of lulc images        \n",
    "for i in os.listdir(path_ndvi):\n",
    "    if i.endswith(\".tif\"):\n",
    "        ndvi_list.append(i)        \n",
    "#make list of lulc images        \n",
    "for i in os.listdir(path_ndbi):\n",
    "    if i.endswith(\".tif\"):\n",
    "        ndbi_list.append(i)    "
   ]
  },
  {
   "cell_type": "code",
   "execution_count": null,
   "metadata": {},
   "outputs": [],
   "source": [
    "for (lstFile, lulcFile, ndviFile, ndbiFile) in zip(lst_list, lulc_list, ndvi_list, ndbi_list):\n",
    "    #open files individually with GDAL\n",
    "    lst_ds = gdal.Open(path_lst+ \"/\" + lstFile)\n",
    "    lulc_ds = gdal.Open(path_lulc+ \"/\" + lulcFile)\n",
    "    ndvi_ds = gdal.Open(path_ndvi+ \"/\" + ndviFile)\n",
    "    ndbi_ds = gdal.Open(path_ndbi+ \"/\" + ndbiFile)\n",
    "    #get band 1 for each obtained file\n",
    "    lst_band =  lst_ds.GetRasterBand(1)\n",
    "    lulc_band = lulc_ds.GetRasterBand(1)\n",
    "    ndvi_band = ndvi_ds.GetRasterBand(1)\n",
    "    ndbi_band = ndbi_ds.GetRasterBand(1)\n",
    "    \n",
    "    #lst_ds ,lulc_ds , ndvi_ds , ndbi_ds = None,None,None,None\n",
    "    \n",
    "    yr = int((re.search( r\"\\d{4}\" , lstFile )).group())\n",
    "    \n",
    "    #print(gdal.GetDataTypeName(band.DataType)  )\n",
    "    #read raster as 1D array\n",
    "    LstArray = lst_band.ReadAsArray().flatten()\n",
    "    LulcArray = lulc_band.ReadAsArray().flatten()\n",
    "    ndviArray = ndvi_band.ReadAsArray().flatten()\n",
    "    ndbiArray = ndbi_band.ReadAsArray().flatten()\n",
    "    \n",
    "    #counters of no of pixel of each LU\n",
    "    counter_u=0 # counts the number of pixels with urban classification\n",
    "    counter_g=0 #green\n",
    "    counter_w=0 #water\n",
    "    counter_b=0 #barren\n",
    "    lt_u, lt_g, lt_w , lt_b = (0,0,0,0)\n",
    "    ndv_u, ndv_g, ndv_w , ndv_b = (0,0,0,0)\n",
    "    ndb_u, ndb_g, ndb_w , ndb_b = (0,0,0,0)\n",
    "    \n",
    "    for (lulc, lst, ndv, ndb) in zip( LulcArray , LstArray ,  ndviArray , ndbiArray ):\n",
    "        if lulc==1:\n",
    "            lt_u += lst\n",
    "            ndv_u += ndv\n",
    "            ndb_u += ndb\n",
    "            counter_u += 1\n",
    "\n",
    "        elif(lulc==2):\n",
    "            lt_g += lst\n",
    "            ndv_g += ndv\n",
    "            ndb_g += ndb\n",
    "            counter_g += 1\n",
    "\n",
    "        elif(lulc==3):\n",
    "            lt_w += lst\n",
    "            ndv_w += ndv\n",
    "            ndb_w += ndb\n",
    "            counter_w += 1\n",
    "\n",
    "        elif(lulc==4):\n",
    "            lt_b += lst\n",
    "            ndv_b += ndv\n",
    "            ndb_b += ndb\n",
    "            counter_b += 1\n",
    "\n",
    "    avg_lst_u = lt_u/counter_u\n",
    "    avg_lst_g = lt_g/counter_g\n",
    "    avg_lst_w = lt_w/counter_w\n",
    "    avg_lst_b = lt_b/counter_b\n",
    "    \n",
    "    avg_ndbi_u = ndb_u/counter_u\n",
    "    avg_ndbi_g = ndb_g/counter_g\n",
    "    avg_ndbi_w = ndb_w/counter_w\n",
    "    avg_ndbi_b = ndb_b/counter_b\n",
    "    \n",
    "    avg_ndvi_u = ndv_u/counter_u\n",
    "    avg_ndvi_g = ndv_g/counter_g\n",
    "    avg_ndvi_w = ndv_w/counter_w\n",
    "    avg_ndvi_b = ndv_b/counter_b\n",
    "    \n",
    "    avg_lst_tot= (lt_u+lt_g+lt_w+lt_b)/(counter_u+counter_b+counter_w+counter_g)\n",
    "    avg_ndvi_tot= (ndv_u+ndv_g+ndv_w+ndv_b)/(counter_u+counter_b+counter_w+counter_g)\n",
    "    avg_ndbi_tot= (ndb_u+ndb_g+ndb_w+ndb_b)/(counter_u+counter_b+counter_w+counter_g)\n",
    "    \n",
    "    #print(lstFile, \"  \" , lulcFile)\n",
    "    dic[yr] = {'LST_urban': avg_lst_u, 'LST_green':avg_lst_g, 'LST_water':avg_lst_w, 'LST_barren':avg_lst_b , \n",
    "               'NDVI_urban': avg_ndvi_u, 'NDVI_green':avg_ndvi_g, 'NDVI_water':avg_ndvi_w, 'NDVI_barren':avg_ndvi_b , \n",
    "               'NDBI_urban': avg_ndbi_u, 'NDBI_green':avg_ndbi_g, 'NDBI_water':avg_ndbi_w, 'NDBI_barren':avg_ndbi_b ,\n",
    "               'LST_avg': avg_lst_tot , 'NDVI_avg': avg_ndvi_tot, 'NDBI_avg': avg_ndbi_tot\n",
    "              }\n",
    "    \n",
    "    x = pd.DataFrame() # dataframe for individual year\n",
    "    x['Year'] = [yr for i in range(len(LulcArray))]\n",
    "    x['LULC'] = LulcArray\n",
    "    x['LST']  = LstArray\n",
    "    x['NDVI'] = ndviArray\n",
    "    x['NDBI'] = ndbiArray\n",
    "    x = x.dropna().reset_index().drop(['index'],axis=1)\n",
    "    \n",
    "    df=df.append(x , ignore_index=True)\n",
    "    print(yr , \" : lst : \", avg_lst_u)\n",
    "    #df[yr] = avg_lst_u\n",
    "    \n",
    "    \n",
    "#df_LST = df.T\n",
    "print(\"Tadaa\")"
   ]
  },
  {
   "cell_type": "code",
   "execution_count": null,
   "metadata": {},
   "outputs": [],
   "source": [
    "\"\"\"df\"\"\""
   ]
  },
  {
   "cell_type": "code",
   "execution_count": null,
   "metadata": {
    "scrolled": true
   },
   "outputs": [],
   "source": [
    "df.to_json(r'E:\\SPAD\\4.Fourth_Year\\08Eighth_Semester\\help_given\\self\\paper\\cities\\new\\Vodadara\\pixeldat.json')\n",
    "imagedf = pd.DataFrame(dic).T\n",
    "imagedf.to_json(r'E:\\SPAD\\4.Fourth_Year\\08Eighth_Semester\\help_given\\self\\paper\\cities\\new\\Vodadara\\imagedat.json')\n"
   ]
  },
  {
   "cell_type": "markdown",
   "metadata": {},
   "source": [
    "# Plotting"
   ]
  },
  {
   "cell_type": "code",
   "execution_count": 99,
   "metadata": {},
   "outputs": [
    {
     "ename": "ValueError",
     "evalue": "Value of 'dimensions_0' is not the name of a column in 'data_frame'. Expected one of ['LST_urban', 'LST_green', 'LST_water', 'LST_barren', 'NDVI_urban', 'NDVI_green', 'NDVI_water', 'NDVI_barren', 'NDBI_urban', 'NDBI_green', 'NDBI_water', 'NDBI_barren', 'LST_avg', 'NDVI_avg', 'NDBI_avg'] but received: LST",
     "output_type": "error",
     "traceback": [
      "\u001b[1;31m---------------------------------------------------------------------------\u001b[0m",
      "\u001b[1;31mValueError\u001b[0m                                Traceback (most recent call last)",
      "\u001b[1;32m<ipython-input-99-97e26efc5c4a>\u001b[0m in \u001b[0;36m<module>\u001b[1;34m\u001b[0m\n\u001b[0;32m      2\u001b[0m \u001b[1;32mimport\u001b[0m \u001b[0mplotly\u001b[0m\u001b[1;33m.\u001b[0m\u001b[0mexpress\u001b[0m \u001b[1;32mas\u001b[0m \u001b[0mpx\u001b[0m\u001b[1;33m\u001b[0m\u001b[1;33m\u001b[0m\u001b[0m\n\u001b[0;32m      3\u001b[0m \u001b[1;33m\u001b[0m\u001b[0m\n\u001b[1;32m----> 4\u001b[1;33m fig = px.scatter_matrix(imagedf,\n\u001b[0m\u001b[0;32m      5\u001b[0m     \u001b[0mdimensions\u001b[0m\u001b[1;33m=\u001b[0m\u001b[1;33m[\u001b[0m\u001b[1;34m'LST'\u001b[0m\u001b[1;33m,\u001b[0m\u001b[1;34m'NDVI'\u001b[0m\u001b[1;33m,\u001b[0m\u001b[1;34m'NDBI'\u001b[0m\u001b[1;33m]\u001b[0m\u001b[1;33m,\u001b[0m\u001b[1;33m\u001b[0m\u001b[1;33m\u001b[0m\u001b[0m\n\u001b[0;32m      6\u001b[0m     color=\"LULC\")\n",
      "\u001b[1;32mC:\\ProgramData\\Anaconda3\\envs\\pyGIS\\lib\\site-packages\\plotly\\express\\_chart_types.py\u001b[0m in \u001b[0;36mscatter_matrix\u001b[1;34m(data_frame, dimensions, color, symbol, size, hover_name, hover_data, custom_data, category_orders, labels, color_discrete_sequence, color_discrete_map, color_continuous_scale, range_color, color_continuous_midpoint, symbol_sequence, symbol_map, opacity, size_max, title, template, width, height)\u001b[0m\n\u001b[0;32m   1162\u001b[0m     \u001b[0mother\u001b[0m\u001b[1;33m.\u001b[0m\u001b[1;33m\u001b[0m\u001b[1;33m\u001b[0m\u001b[0m\n\u001b[0;32m   1163\u001b[0m     \"\"\"\n\u001b[1;32m-> 1164\u001b[1;33m     return make_figure(\n\u001b[0m\u001b[0;32m   1165\u001b[0m         \u001b[0margs\u001b[0m\u001b[1;33m=\u001b[0m\u001b[0mlocals\u001b[0m\u001b[1;33m(\u001b[0m\u001b[1;33m)\u001b[0m\u001b[1;33m,\u001b[0m \u001b[0mconstructor\u001b[0m\u001b[1;33m=\u001b[0m\u001b[0mgo\u001b[0m\u001b[1;33m.\u001b[0m\u001b[0mSplom\u001b[0m\u001b[1;33m,\u001b[0m \u001b[0mlayout_patch\u001b[0m\u001b[1;33m=\u001b[0m\u001b[0mdict\u001b[0m\u001b[1;33m(\u001b[0m\u001b[0mdragmode\u001b[0m\u001b[1;33m=\u001b[0m\u001b[1;34m\"select\"\u001b[0m\u001b[1;33m)\u001b[0m\u001b[1;33m\u001b[0m\u001b[1;33m\u001b[0m\u001b[0m\n\u001b[0;32m   1166\u001b[0m     )\n",
      "\u001b[1;32mC:\\ProgramData\\Anaconda3\\envs\\pyGIS\\lib\\site-packages\\plotly\\express\\_core.py\u001b[0m in \u001b[0;36mmake_figure\u001b[1;34m(args, constructor, trace_patch, layout_patch)\u001b[0m\n\u001b[0;32m   1429\u001b[0m     \u001b[0mapply_default_cascade\u001b[0m\u001b[1;33m(\u001b[0m\u001b[0margs\u001b[0m\u001b[1;33m)\u001b[0m\u001b[1;33m\u001b[0m\u001b[1;33m\u001b[0m\u001b[0m\n\u001b[0;32m   1430\u001b[0m \u001b[1;33m\u001b[0m\u001b[0m\n\u001b[1;32m-> 1431\u001b[1;33m     args, trace_specs, grouped_mappings, sizeref, show_colorbar = infer_config(\n\u001b[0m\u001b[0;32m   1432\u001b[0m         \u001b[0margs\u001b[0m\u001b[1;33m,\u001b[0m \u001b[0mconstructor\u001b[0m\u001b[1;33m,\u001b[0m \u001b[0mtrace_patch\u001b[0m\u001b[1;33m\u001b[0m\u001b[1;33m\u001b[0m\u001b[0m\n\u001b[0;32m   1433\u001b[0m     )\n",
      "\u001b[1;32mC:\\ProgramData\\Anaconda3\\envs\\pyGIS\\lib\\site-packages\\plotly\\express\\_core.py\u001b[0m in \u001b[0;36minfer_config\u001b[1;34m(args, constructor, trace_patch)\u001b[0m\n\u001b[0;32m   1273\u001b[0m             \u001b[0mall_attrables\u001b[0m \u001b[1;33m+=\u001b[0m \u001b[1;33m[\u001b[0m\u001b[0mgroup_attr\u001b[0m\u001b[1;33m]\u001b[0m\u001b[1;33m\u001b[0m\u001b[1;33m\u001b[0m\u001b[0m\n\u001b[0;32m   1274\u001b[0m \u001b[1;33m\u001b[0m\u001b[0m\n\u001b[1;32m-> 1275\u001b[1;33m     \u001b[0margs\u001b[0m \u001b[1;33m=\u001b[0m \u001b[0mbuild_dataframe\u001b[0m\u001b[1;33m(\u001b[0m\u001b[0margs\u001b[0m\u001b[1;33m,\u001b[0m \u001b[0mall_attrables\u001b[0m\u001b[1;33m,\u001b[0m \u001b[0marray_attrables\u001b[0m\u001b[1;33m)\u001b[0m\u001b[1;33m\u001b[0m\u001b[1;33m\u001b[0m\u001b[0m\n\u001b[0m\u001b[0;32m   1276\u001b[0m     \u001b[1;32mif\u001b[0m \u001b[0mconstructor\u001b[0m \u001b[1;32min\u001b[0m \u001b[1;33m[\u001b[0m\u001b[0mgo\u001b[0m\u001b[1;33m.\u001b[0m\u001b[0mTreemap\u001b[0m\u001b[1;33m,\u001b[0m \u001b[0mgo\u001b[0m\u001b[1;33m.\u001b[0m\u001b[0mSunburst\u001b[0m\u001b[1;33m]\u001b[0m \u001b[1;32mand\u001b[0m \u001b[0margs\u001b[0m\u001b[1;33m[\u001b[0m\u001b[1;34m\"path\"\u001b[0m\u001b[1;33m]\u001b[0m \u001b[1;32mis\u001b[0m \u001b[1;32mnot\u001b[0m \u001b[1;32mNone\u001b[0m\u001b[1;33m:\u001b[0m\u001b[1;33m\u001b[0m\u001b[1;33m\u001b[0m\u001b[0m\n\u001b[0;32m   1277\u001b[0m         \u001b[0margs\u001b[0m \u001b[1;33m=\u001b[0m \u001b[0mprocess_dataframe_hierarchy\u001b[0m\u001b[1;33m(\u001b[0m\u001b[0margs\u001b[0m\u001b[1;33m)\u001b[0m\u001b[1;33m\u001b[0m\u001b[1;33m\u001b[0m\u001b[0m\n",
      "\u001b[1;32mC:\\ProgramData\\Anaconda3\\envs\\pyGIS\\lib\\site-packages\\plotly\\express\\_core.py\u001b[0m in \u001b[0;36mbuild_dataframe\u001b[1;34m(args, attrables, array_attrables)\u001b[0m\n\u001b[0;32m   1035\u001b[0m                             \u001b[1;34m\"\\n To use the index, pass it in directly as `df.index`.\"\u001b[0m\u001b[1;33m\u001b[0m\u001b[1;33m\u001b[0m\u001b[0m\n\u001b[0;32m   1036\u001b[0m                         )\n\u001b[1;32m-> 1037\u001b[1;33m                     \u001b[1;32mraise\u001b[0m \u001b[0mValueError\u001b[0m\u001b[1;33m(\u001b[0m\u001b[0merr_msg\u001b[0m\u001b[1;33m)\u001b[0m\u001b[1;33m\u001b[0m\u001b[1;33m\u001b[0m\u001b[0m\n\u001b[0m\u001b[0;32m   1038\u001b[0m                 \u001b[1;32mif\u001b[0m \u001b[0mlength\u001b[0m \u001b[1;32mand\u001b[0m \u001b[0mlen\u001b[0m\u001b[1;33m(\u001b[0m\u001b[0mdf_input\u001b[0m\u001b[1;33m[\u001b[0m\u001b[0margument\u001b[0m\u001b[1;33m]\u001b[0m\u001b[1;33m)\u001b[0m \u001b[1;33m!=\u001b[0m \u001b[0mlength\u001b[0m\u001b[1;33m:\u001b[0m\u001b[1;33m\u001b[0m\u001b[1;33m\u001b[0m\u001b[0m\n\u001b[0;32m   1039\u001b[0m                     raise ValueError(\n",
      "\u001b[1;31mValueError\u001b[0m: Value of 'dimensions_0' is not the name of a column in 'data_frame'. Expected one of ['LST_urban', 'LST_green', 'LST_water', 'LST_barren', 'NDVI_urban', 'NDVI_green', 'NDVI_water', 'NDVI_barren', 'NDBI_urban', 'NDBI_green', 'NDBI_water', 'NDBI_barren', 'LST_avg', 'NDVI_avg', 'NDBI_avg'] but received: LST"
     ]
    }
   ],
   "source": [
    "\"\"\"%matplotlib inline\n",
    "import plotly.express as px\n",
    "\n",
    "fig = px.scatter_matrix(df,\n",
    "    dimensions=['LST','NDVI','NDBI'],\n",
    "    color=\"LULC\")\n",
    "fig.show()\"\"\""
   ]
  },
  {
   "cell_type": "markdown",
   "metadata": {},
   "source": [
    "### Export to excel"
   ]
  },
  {
   "cell_type": "code",
   "execution_count": 89,
   "metadata": {},
   "outputs": [
    {
     "ename": "ValueError",
     "evalue": "This sheet is too large! Your sheet size is: 2357600, 5 Max sheet size is: 1048576, 16384",
     "output_type": "error",
     "traceback": [
      "\u001b[1;31m---------------------------------------------------------------------------\u001b[0m",
      "\u001b[1;31mValueError\u001b[0m                                Traceback (most recent call last)",
      "\u001b[1;32m<ipython-input-89-0512328652d4>\u001b[0m in \u001b[0;36m<module>\u001b[1;34m\u001b[0m\n\u001b[0;32m      5\u001b[0m \"\"\"\n\u001b[0;32m      6\u001b[0m \u001b[0mwriter\u001b[0m \u001b[1;33m=\u001b[0m \u001b[0mpd\u001b[0m\u001b[1;33m.\u001b[0m\u001b[0mExcelWriter\u001b[0m\u001b[1;33m(\u001b[0m\u001b[1;34m'data_vadodara.xlsx'\u001b[0m\u001b[1;33m,\u001b[0m \u001b[0mengine\u001b[0m\u001b[1;33m=\u001b[0m\u001b[1;34m'openpyxl'\u001b[0m\u001b[1;33m)\u001b[0m\u001b[1;33m\u001b[0m\u001b[1;33m\u001b[0m\u001b[0m\n\u001b[1;32m----> 7\u001b[1;33m \u001b[0mdf\u001b[0m\u001b[1;33m.\u001b[0m\u001b[0mto_excel\u001b[0m\u001b[1;33m(\u001b[0m\u001b[0mwriter\u001b[0m\u001b[1;33m,\u001b[0m \u001b[1;34m'pixel_data'\u001b[0m\u001b[1;33m)\u001b[0m\u001b[1;33m\u001b[0m\u001b[1;33m\u001b[0m\u001b[0m\n\u001b[0m\u001b[0;32m      8\u001b[0m \u001b[0mwriter\u001b[0m\u001b[1;33m.\u001b[0m\u001b[0msave\u001b[0m\u001b[1;33m(\u001b[0m\u001b[1;33m)\u001b[0m   \u001b[1;31m# This works\u001b[0m\u001b[1;33m\u001b[0m\u001b[1;33m\u001b[0m\u001b[0m\n\u001b[0;32m      9\u001b[0m \u001b[1;31m#df1.to_excel(writer, 'image_data')\u001b[0m\u001b[1;33m\u001b[0m\u001b[1;33m\u001b[0m\u001b[1;33m\u001b[0m\u001b[0m\n",
      "\u001b[1;32mC:\\ProgramData\\Anaconda3\\envs\\pyGIS\\lib\\site-packages\\pandas\\core\\generic.py\u001b[0m in \u001b[0;36mto_excel\u001b[1;34m(self, excel_writer, sheet_name, na_rep, float_format, columns, header, index, index_label, startrow, startcol, engine, merge_cells, encoding, inf_rep, verbose, freeze_panes)\u001b[0m\n\u001b[0;32m   2173\u001b[0m             \u001b[0minf_rep\u001b[0m\u001b[1;33m=\u001b[0m\u001b[0minf_rep\u001b[0m\u001b[1;33m,\u001b[0m\u001b[1;33m\u001b[0m\u001b[1;33m\u001b[0m\u001b[0m\n\u001b[0;32m   2174\u001b[0m         )\n\u001b[1;32m-> 2175\u001b[1;33m         formatter.write(\n\u001b[0m\u001b[0;32m   2176\u001b[0m             \u001b[0mexcel_writer\u001b[0m\u001b[1;33m,\u001b[0m\u001b[1;33m\u001b[0m\u001b[1;33m\u001b[0m\u001b[0m\n\u001b[0;32m   2177\u001b[0m             \u001b[0msheet_name\u001b[0m\u001b[1;33m=\u001b[0m\u001b[0msheet_name\u001b[0m\u001b[1;33m,\u001b[0m\u001b[1;33m\u001b[0m\u001b[1;33m\u001b[0m\u001b[0m\n",
      "\u001b[1;32mC:\\ProgramData\\Anaconda3\\envs\\pyGIS\\lib\\site-packages\\pandas\\io\\formats\\excel.py\u001b[0m in \u001b[0;36mwrite\u001b[1;34m(self, writer, sheet_name, startrow, startcol, freeze_panes, engine)\u001b[0m\n\u001b[0;32m    716\u001b[0m         \u001b[0mnum_rows\u001b[0m\u001b[1;33m,\u001b[0m \u001b[0mnum_cols\u001b[0m \u001b[1;33m=\u001b[0m \u001b[0mself\u001b[0m\u001b[1;33m.\u001b[0m\u001b[0mdf\u001b[0m\u001b[1;33m.\u001b[0m\u001b[0mshape\u001b[0m\u001b[1;33m\u001b[0m\u001b[1;33m\u001b[0m\u001b[0m\n\u001b[0;32m    717\u001b[0m         \u001b[1;32mif\u001b[0m \u001b[0mnum_rows\u001b[0m \u001b[1;33m>\u001b[0m \u001b[0mself\u001b[0m\u001b[1;33m.\u001b[0m\u001b[0mmax_rows\u001b[0m \u001b[1;32mor\u001b[0m \u001b[0mnum_cols\u001b[0m \u001b[1;33m>\u001b[0m \u001b[0mself\u001b[0m\u001b[1;33m.\u001b[0m\u001b[0mmax_cols\u001b[0m\u001b[1;33m:\u001b[0m\u001b[1;33m\u001b[0m\u001b[1;33m\u001b[0m\u001b[0m\n\u001b[1;32m--> 718\u001b[1;33m             raise ValueError(\n\u001b[0m\u001b[0;32m    719\u001b[0m                 \u001b[1;34mf\"This sheet is too large! Your sheet size is: {num_rows}, {num_cols} \"\u001b[0m\u001b[1;33m\u001b[0m\u001b[1;33m\u001b[0m\u001b[0m\n\u001b[0;32m    720\u001b[0m                 \u001b[1;34mf\"Max sheet size is: {self.max_rows}, {self.max_cols}\"\u001b[0m\u001b[1;33m\u001b[0m\u001b[1;33m\u001b[0m\u001b[0m\n",
      "\u001b[1;31mValueError\u001b[0m: This sheet is too large! Your sheet size is: 2357600, 5 Max sheet size is: 1048576, 16384"
     ]
    }
   ],
   "source": [
    "\"\"\"# exporting to excel\n",
    "writer = pd.ExcelWriter('data_vadodara.xlsx', engine='openpyxl')\n",
    "#df.to_excel(writer, 'pixel_data')\n",
    "#writer.save()   # This works\n",
    "df1.to_excel(writer, 'image_data')\n",
    "writer.save()   # This works too!  \"\"\"  "
   ]
  }
 ],
 "metadata": {
  "kernelspec": {
   "display_name": "Python 3",
   "language": "python",
   "name": "python3"
  },
  "language_info": {
   "codemirror_mode": {
    "name": "ipython",
    "version": 3
   },
   "file_extension": ".py",
   "mimetype": "text/x-python",
   "name": "python",
   "nbconvert_exporter": "python",
   "pygments_lexer": "ipython3",
   "version": "3.7.7"
  }
 },
 "nbformat": 4,
 "nbformat_minor": 2
}
